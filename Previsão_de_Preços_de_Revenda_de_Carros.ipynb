{
  "nbformat": 4,
  "nbformat_minor": 0,
  "metadata": {
    "colab": {
      "provenance": [],
      "toc_visible": true,
      "authorship_tag": "ABX9TyNgQDfjVyhyJ1Mc2rno3Hs/",
      "include_colab_link": true
    },
    "kernelspec": {
      "name": "python3",
      "display_name": "Python 3"
    },
    "language_info": {
      "name": "python"
    }
  },
  "cells": [
    {
      "cell_type": "markdown",
      "metadata": {
        "id": "view-in-github",
        "colab_type": "text"
      },
      "source": [
        "<a href=\"https://colab.research.google.com/github/AlvaroMAlves/testrepo/blob/main/Previs%C3%A3o_de_Pre%C3%A7os_de_Revenda_de_Carros.ipynb\" target=\"_parent\"><img src=\"https://colab.research.google.com/assets/colab-badge.svg\" alt=\"Open In Colab\"/></a>"
      ]
    },
    {
      "cell_type": "markdown",
      "source": [
        "# Nova seção"
      ],
      "metadata": {
        "id": "EJs5hPxEmH4y"
      }
    },
    {
      "cell_type": "markdown",
      "source": [
        "# Previsão de Preços de Revenda de Carros"
      ],
      "metadata": {
        "id": "uJz-wFR9mJHM"
      }
    },
    {
      "cell_type": "code",
      "source": [],
      "metadata": {
        "id": "hLHaexULmOhK"
      },
      "execution_count": null,
      "outputs": []
    }
  ]
}