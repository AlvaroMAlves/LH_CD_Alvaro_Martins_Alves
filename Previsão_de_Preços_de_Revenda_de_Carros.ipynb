{
  "nbformat": 4,
  "nbformat_minor": 0,
  "metadata": {
    "colab": {
      "provenance": [],
      "toc_visible": true,
      "authorship_tag": "ABX9TyPeY0EWhGuojQVFsyJGWG1Y",
      "include_colab_link": true
    },
    "kernelspec": {
      "name": "python3",
      "display_name": "Python 3"
    },
    "language_info": {
      "name": "python"
    }
  },
  "cells": [
    {
      "cell_type": "markdown",
      "metadata": {
        "id": "view-in-github",
        "colab_type": "text"
      },
      "source": [
        "<a href=\"https://colab.research.google.com/github/AlvaroMAlves/testrepo/blob/main/Previs%C3%A3o_de_Pre%C3%A7os_de_Revenda_de_Carros.ipynb\" target=\"_parent\"><img src=\"https://colab.research.google.com/assets/colab-badge.svg\" alt=\"Open In Colab\"/></a>"
      ]
    },
    {
      "cell_type": "markdown",
      "source": [
        "# Nova seção"
      ],
      "metadata": {
        "id": "EJs5hPxEmH4y"
      }
    },
    {
      "cell_type": "markdown",
      "source": [
        "# Previsão de Preços de Revenda de Carros"
      ],
      "metadata": {
        "id": "uJz-wFR9mJHM"
      }
    },
    {
      "cell_type": "code",
      "source": [
        "import pandas as pd\n",
        "\n",
        "# URL do arquivo CSV no GitHub\n",
        "url = 'https://raw.githubusercontent.com/AlvaroMAlves/testrepo/main/cars_train.csv'\n",
        "\n",
        "# Carrega o arquivo CSV em um DataFrame\n",
        "df = pd.read_csv(url, sep='\\t',  encoding='utf-16')\n",
        "\n",
        "# Exibe as primeiras linhas do DataFrame\n",
        "print(df.head())"
      ],
      "metadata": {
        "colab": {
          "base_uri": "https://localhost:8080/"
        },
        "id": "hLHaexULmOhK",
        "outputId": "7022d44e-cc05-41e2-d111-2ae35a78e6a1"
      },
      "execution_count": 114,
      "outputs": [
        {
          "output_type": "stream",
          "name": "stdout",
          "text": [
            "                                        id  num_fotos       marca   modelo  \\\n",
            "0  300716223898539419613863097469899222392        8.0      NISSAN    KICKS   \n",
            "1  279639842134129588306469566150288644214        8.0        JEEP  COMPASS   \n",
            "2   56414460810621048900295678236538171981       16.0         KIA  SORENTO   \n",
            "3   56862509826849933428086372390159405545       14.0  VOLKSWAGEN   AMAROK   \n",
            "4  338980975753200343894519909855598027197        8.0   SSANGYONG  KORANDO   \n",
            "\n",
            "                                              versao  ano_de_fabricacao  \\\n",
            "0                    1.6 16V FLEXSTART SL 4P XTRONIC               2017   \n",
            "1                    2.0 16V FLEX LIMITED AUTOMÁTICO               2017   \n",
            "2              2.4 16V GASOLINA EX 7L AWD AUTOMÁTICO               2018   \n",
            "3  2.0 HIGHLINE 4X4 CD 16V TURBO INTERCOOLER DIES...               2013   \n",
            "4         2.0 GLS 4X4 16V TURBO DIESEL 4P AUTOMÁTICO               2013   \n",
            "\n",
            "   ano_modelo  hodometro      cambio  num_portas  ... elegivel_revisao  \\\n",
            "0      2017.0    67772.0         CVT           4  ...            False   \n",
            "1      2017.0    62979.0  Automática           4  ...            False   \n",
            "2      2019.0    44070.0  Automática           4  ...            False   \n",
            "3      2015.0    85357.0  Automática           4  ...            False   \n",
            "4      2015.0    71491.0  Automática           4  ...            False   \n",
            "\n",
            "  dono_aceita_troca veiculo_único_dono  \\\n",
            "0               NaN                NaN   \n",
            "1      Aceita troca                NaN   \n",
            "2      Aceita troca                NaN   \n",
            "3      Aceita troca                NaN   \n",
            "4               NaN                NaN   \n",
            "\n",
            "                        revisoes_concessionaria  ipva_pago veiculo_licenciado  \\\n",
            "0  Todas as revisões feitas pela concessionária  IPVA pago         Licenciado   \n",
            "1                                           NaN  IPVA pago                NaN   \n",
            "2                                           NaN        NaN                NaN   \n",
            "3                                           NaN  IPVA pago         Licenciado   \n",
            "4  Todas as revisões feitas pela concessionária        NaN                NaN   \n",
            "\n",
            "   garantia_de_fábrica                         revisoes_dentro_agenda  \\\n",
            "0                  NaN                                            NaN   \n",
            "1                  NaN                                            NaN   \n",
            "2                  NaN                                            NaN   \n",
            "3                  NaN                                            NaN   \n",
            "4  Garantia de fábrica  Todas as revisões feitas pela agenda do carro   \n",
            "\n",
            "   veiculo_alienado          preco  \n",
            "0               NaN   74732.590084  \n",
            "1               NaN   81965.332634  \n",
            "2               NaN  162824.814472  \n",
            "3               NaN  123681.358857  \n",
            "4               NaN   82419.763891  \n",
            "\n",
            "[5 rows x 29 columns]\n"
          ]
        }
      ]
    },
    {
      "cell_type": "code",
      "source": [
        "valores_diferentes_por_coluna = df.nunique()\n",
        "print(valores_diferentes_por_coluna)"
      ],
      "metadata": {
        "colab": {
          "base_uri": "https://localhost:8080/"
        },
        "id": "0P01Xwmb-hH-",
        "outputId": "0a86c9d8-4888-4c86-e1f2-0255bed1250e"
      },
      "execution_count": 115,
      "outputs": [
        {
          "output_type": "stream",
          "name": "stdout",
          "text": [
            "id                         29584\n",
            "num_fotos                     14\n",
            "marca                         40\n",
            "modelo                       457\n",
            "versao                      1916\n",
            "ano_de_fabricacao             35\n",
            "ano_modelo                    17\n",
            "hodometro                  26004\n",
            "cambio                         7\n",
            "num_portas                     3\n",
            "tipo                           7\n",
            "blindado                       2\n",
            "cor                            7\n",
            "tipo_vendedor                  2\n",
            "cidade_vendedor              575\n",
            "estado_vendedor               25\n",
            "anunciante                     4\n",
            "entrega_delivery               2\n",
            "troca                          2\n",
            "elegivel_revisao               1\n",
            "dono_aceita_troca              1\n",
            "veiculo_único_dono             1\n",
            "revisoes_concessionaria        1\n",
            "ipva_pago                      1\n",
            "veiculo_licenciado             1\n",
            "garantia_de_fábrica            1\n",
            "revisoes_dentro_agenda         1\n",
            "veiculo_alienado               0\n",
            "preco                      29584\n",
            "dtype: int64\n"
          ]
        }
      ]
    },
    {
      "cell_type": "markdown",
      "source": [
        "Vamos verificar quais são os valores das colunas **blindado**, **tipo_vendedor** e de **entrega_delivery** até **veiculo_alienado**, para conhecê-las melhor:"
      ],
      "metadata": {
        "id": "DOEJ3JIM_CNE"
      }
    },
    {
      "cell_type": "code",
      "source": [
        "colunas = [\"blindado\",\"tipo_vendedor\",\"entrega_delivery\",\"troca\",\"elegivel_revisao\", \"dono_aceita_troca\", \"veiculo_único_dono\", \"revisoes_concessionaria\", \"ipva_pago\", \"veiculo_licenciado\", \"garantia_de_fábrica\", \"revisoes_dentro_agenda\", \"veiculo_alienado\"]\n",
        "\n",
        "for coluna in colunas:\n",
        "    valores_unicos = df[coluna].unique()\n",
        "    print(f\"Valores únicos em {coluna}: {valores_unicos}\")"
      ],
      "metadata": {
        "colab": {
          "base_uri": "https://localhost:8080/"
        },
        "id": "mmLfLoNw_WFS",
        "outputId": "f9bd4c8b-b8cc-43d2-972c-5a1297b66480"
      },
      "execution_count": 116,
      "outputs": [
        {
          "output_type": "stream",
          "name": "stdout",
          "text": [
            "Valores únicos em blindado: ['N' 'S']\n",
            "Valores únicos em tipo_vendedor: ['PF' 'PJ']\n",
            "Valores únicos em entrega_delivery: [False  True]\n",
            "Valores únicos em troca: [False  True]\n",
            "Valores únicos em elegivel_revisao: [False]\n",
            "Valores únicos em dono_aceita_troca: [nan 'Aceita troca']\n",
            "Valores únicos em veiculo_único_dono: [nan 'Único dono']\n",
            "Valores únicos em revisoes_concessionaria: ['Todas as revisões feitas pela concessionária' nan]\n",
            "Valores únicos em ipva_pago: ['IPVA pago' nan]\n",
            "Valores únicos em veiculo_licenciado: ['Licenciado' nan]\n",
            "Valores únicos em garantia_de_fábrica: [nan 'Garantia de fábrica']\n",
            "Valores únicos em revisoes_dentro_agenda: [nan 'Todas as revisões feitas pela agenda do carro']\n",
            "Valores únicos em veiculo_alienado: [nan]\n"
          ]
        }
      ]
    },
    {
      "cell_type": "markdown",
      "source": [
        "A partir daqui, vou começar excluindo a coluna **elegivel_revisao** e **veiculo_alienado**.\n",
        "\n",
        "Após isso, trocarei *False* e *True* por 0 e 1 nas colunas **entrega_delivery** e **troca**, e *N* e *S* por 0 e 1, na coluna **blindado**.\n",
        "\n",
        "Nas colunas que possuem apenas um valor (como **dono_aceita_troca**), vamos trocas nulo por 0 e o valor 'Aceita troca' por 1, por exemplo."
      ],
      "metadata": {
        "id": "HotxJyWxARxM"
      }
    },
    {
      "cell_type": "code",
      "source": [
        "colunas_para_remover = [\"veiculo_alienado\", \"elegivel_revisao\"]\n",
        "df = df.drop(colunas_para_remover, axis=1)"
      ],
      "metadata": {
        "id": "-6ii45Lfnzce"
      },
      "execution_count": 117,
      "outputs": []
    },
    {
      "cell_type": "code",
      "source": [
        "colunas_para_substituir = [\"entrega_delivery\", \"troca\"]\n",
        "df[colunas_para_substituir] = df[colunas_para_substituir].replace({False: 0, True: 1})"
      ],
      "metadata": {
        "id": "7BFQsA9ACZPs"
      },
      "execution_count": 118,
      "outputs": []
    },
    {
      "cell_type": "code",
      "source": [
        "df[\"blindado\"] = df[\"blindado\"].replace({'N': 0, 'S': 1})"
      ],
      "metadata": {
        "id": "V-P-qVjrDlzj"
      },
      "execution_count": 119,
      "outputs": []
    },
    {
      "cell_type": "code",
      "source": [
        "colunas_substituir_nulo = ['dono_aceita_troca', 'veiculo_único_dono', 'revisoes_concessionaria', 'ipva_pago', 'veiculo_licenciado', 'garantia_de_fábrica', 'revisoes_dentro_agenda']\n",
        "df[colunas_substituir_nulo] = df[colunas_substituir_nulo].notnull().astype(int)\n"
      ],
      "metadata": {
        "id": "GIs7LZOJF-Ic"
      },
      "execution_count": 120,
      "outputs": []
    },
    {
      "cell_type": "code",
      "source": [
        "df[colunas_substituir_nulo]\n"
      ],
      "metadata": {
        "colab": {
          "base_uri": "https://localhost:8080/",
          "height": 488
        },
        "id": "LGL53alFGElz",
        "outputId": "7f51e1d9-6341-4719-9218-7be939a37dbc"
      },
      "execution_count": 122,
      "outputs": [
        {
          "output_type": "execute_result",
          "data": {
            "text/plain": [
              "       dono_aceita_troca  veiculo_único_dono  revisoes_concessionaria  \\\n",
              "0                      0                   0                        1   \n",
              "1                      1                   0                        0   \n",
              "2                      1                   0                        0   \n",
              "3                      1                   0                        0   \n",
              "4                      0                   0                        1   \n",
              "...                  ...                 ...                      ...   \n",
              "29579                  1                   1                        0   \n",
              "29580                  0                   1                        1   \n",
              "29581                  1                   0                        0   \n",
              "29582                  1                   1                        0   \n",
              "29583                  1                   0                        0   \n",
              "\n",
              "       ipva_pago  veiculo_licenciado  garantia_de_fábrica  \\\n",
              "0              1                   1                    0   \n",
              "1              1                   0                    0   \n",
              "2              0                   0                    0   \n",
              "3              1                   1                    0   \n",
              "4              0                   0                    1   \n",
              "...          ...                 ...                  ...   \n",
              "29579          1                   1                    1   \n",
              "29580          1                   1                    1   \n",
              "29581          0                   0                    0   \n",
              "29582          1                   1                    0   \n",
              "29583          0                   0                    0   \n",
              "\n",
              "       revisoes_dentro_agenda  \n",
              "0                           0  \n",
              "1                           0  \n",
              "2                           0  \n",
              "3                           0  \n",
              "4                           1  \n",
              "...                       ...  \n",
              "29579                       0  \n",
              "29580                       0  \n",
              "29581                       0  \n",
              "29582                       0  \n",
              "29583                       0  \n",
              "\n",
              "[29584 rows x 7 columns]"
            ],
            "text/html": [
              "\n",
              "  <div id=\"df-34ef0001-983f-4454-81c1-02cb2a005bba\">\n",
              "    <div class=\"colab-df-container\">\n",
              "      <div>\n",
              "<style scoped>\n",
              "    .dataframe tbody tr th:only-of-type {\n",
              "        vertical-align: middle;\n",
              "    }\n",
              "\n",
              "    .dataframe tbody tr th {\n",
              "        vertical-align: top;\n",
              "    }\n",
              "\n",
              "    .dataframe thead th {\n",
              "        text-align: right;\n",
              "    }\n",
              "</style>\n",
              "<table border=\"1\" class=\"dataframe\">\n",
              "  <thead>\n",
              "    <tr style=\"text-align: right;\">\n",
              "      <th></th>\n",
              "      <th>dono_aceita_troca</th>\n",
              "      <th>veiculo_único_dono</th>\n",
              "      <th>revisoes_concessionaria</th>\n",
              "      <th>ipva_pago</th>\n",
              "      <th>veiculo_licenciado</th>\n",
              "      <th>garantia_de_fábrica</th>\n",
              "      <th>revisoes_dentro_agenda</th>\n",
              "    </tr>\n",
              "  </thead>\n",
              "  <tbody>\n",
              "    <tr>\n",
              "      <th>0</th>\n",
              "      <td>0</td>\n",
              "      <td>0</td>\n",
              "      <td>1</td>\n",
              "      <td>1</td>\n",
              "      <td>1</td>\n",
              "      <td>0</td>\n",
              "      <td>0</td>\n",
              "    </tr>\n",
              "    <tr>\n",
              "      <th>1</th>\n",
              "      <td>1</td>\n",
              "      <td>0</td>\n",
              "      <td>0</td>\n",
              "      <td>1</td>\n",
              "      <td>0</td>\n",
              "      <td>0</td>\n",
              "      <td>0</td>\n",
              "    </tr>\n",
              "    <tr>\n",
              "      <th>2</th>\n",
              "      <td>1</td>\n",
              "      <td>0</td>\n",
              "      <td>0</td>\n",
              "      <td>0</td>\n",
              "      <td>0</td>\n",
              "      <td>0</td>\n",
              "      <td>0</td>\n",
              "    </tr>\n",
              "    <tr>\n",
              "      <th>3</th>\n",
              "      <td>1</td>\n",
              "      <td>0</td>\n",
              "      <td>0</td>\n",
              "      <td>1</td>\n",
              "      <td>1</td>\n",
              "      <td>0</td>\n",
              "      <td>0</td>\n",
              "    </tr>\n",
              "    <tr>\n",
              "      <th>4</th>\n",
              "      <td>0</td>\n",
              "      <td>0</td>\n",
              "      <td>1</td>\n",
              "      <td>0</td>\n",
              "      <td>0</td>\n",
              "      <td>1</td>\n",
              "      <td>1</td>\n",
              "    </tr>\n",
              "    <tr>\n",
              "      <th>...</th>\n",
              "      <td>...</td>\n",
              "      <td>...</td>\n",
              "      <td>...</td>\n",
              "      <td>...</td>\n",
              "      <td>...</td>\n",
              "      <td>...</td>\n",
              "      <td>...</td>\n",
              "    </tr>\n",
              "    <tr>\n",
              "      <th>29579</th>\n",
              "      <td>1</td>\n",
              "      <td>1</td>\n",
              "      <td>0</td>\n",
              "      <td>1</td>\n",
              "      <td>1</td>\n",
              "      <td>1</td>\n",
              "      <td>0</td>\n",
              "    </tr>\n",
              "    <tr>\n",
              "      <th>29580</th>\n",
              "      <td>0</td>\n",
              "      <td>1</td>\n",
              "      <td>1</td>\n",
              "      <td>1</td>\n",
              "      <td>1</td>\n",
              "      <td>1</td>\n",
              "      <td>0</td>\n",
              "    </tr>\n",
              "    <tr>\n",
              "      <th>29581</th>\n",
              "      <td>1</td>\n",
              "      <td>0</td>\n",
              "      <td>0</td>\n",
              "      <td>0</td>\n",
              "      <td>0</td>\n",
              "      <td>0</td>\n",
              "      <td>0</td>\n",
              "    </tr>\n",
              "    <tr>\n",
              "      <th>29582</th>\n",
              "      <td>1</td>\n",
              "      <td>1</td>\n",
              "      <td>0</td>\n",
              "      <td>1</td>\n",
              "      <td>1</td>\n",
              "      <td>0</td>\n",
              "      <td>0</td>\n",
              "    </tr>\n",
              "    <tr>\n",
              "      <th>29583</th>\n",
              "      <td>1</td>\n",
              "      <td>0</td>\n",
              "      <td>0</td>\n",
              "      <td>0</td>\n",
              "      <td>0</td>\n",
              "      <td>0</td>\n",
              "      <td>0</td>\n",
              "    </tr>\n",
              "  </tbody>\n",
              "</table>\n",
              "<p>29584 rows × 7 columns</p>\n",
              "</div>\n",
              "      <button class=\"colab-df-convert\" onclick=\"convertToInteractive('df-34ef0001-983f-4454-81c1-02cb2a005bba')\"\n",
              "              title=\"Convert this dataframe to an interactive table.\"\n",
              "              style=\"display:none;\">\n",
              "        \n",
              "  <svg xmlns=\"http://www.w3.org/2000/svg\" height=\"24px\"viewBox=\"0 0 24 24\"\n",
              "       width=\"24px\">\n",
              "    <path d=\"M0 0h24v24H0V0z\" fill=\"none\"/>\n",
              "    <path d=\"M18.56 5.44l.94 2.06.94-2.06 2.06-.94-2.06-.94-.94-2.06-.94 2.06-2.06.94zm-11 1L8.5 8.5l.94-2.06 2.06-.94-2.06-.94L8.5 2.5l-.94 2.06-2.06.94zm10 10l.94 2.06.94-2.06 2.06-.94-2.06-.94-.94-2.06-.94 2.06-2.06.94z\"/><path d=\"M17.41 7.96l-1.37-1.37c-.4-.4-.92-.59-1.43-.59-.52 0-1.04.2-1.43.59L10.3 9.45l-7.72 7.72c-.78.78-.78 2.05 0 2.83L4 21.41c.39.39.9.59 1.41.59.51 0 1.02-.2 1.41-.59l7.78-7.78 2.81-2.81c.8-.78.8-2.07 0-2.86zM5.41 20L4 18.59l7.72-7.72 1.47 1.35L5.41 20z\"/>\n",
              "  </svg>\n",
              "      </button>\n",
              "      \n",
              "  <style>\n",
              "    .colab-df-container {\n",
              "      display:flex;\n",
              "      flex-wrap:wrap;\n",
              "      gap: 12px;\n",
              "    }\n",
              "\n",
              "    .colab-df-convert {\n",
              "      background-color: #E8F0FE;\n",
              "      border: none;\n",
              "      border-radius: 50%;\n",
              "      cursor: pointer;\n",
              "      display: none;\n",
              "      fill: #1967D2;\n",
              "      height: 32px;\n",
              "      padding: 0 0 0 0;\n",
              "      width: 32px;\n",
              "    }\n",
              "\n",
              "    .colab-df-convert:hover {\n",
              "      background-color: #E2EBFA;\n",
              "      box-shadow: 0px 1px 2px rgba(60, 64, 67, 0.3), 0px 1px 3px 1px rgba(60, 64, 67, 0.15);\n",
              "      fill: #174EA6;\n",
              "    }\n",
              "\n",
              "    [theme=dark] .colab-df-convert {\n",
              "      background-color: #3B4455;\n",
              "      fill: #D2E3FC;\n",
              "    }\n",
              "\n",
              "    [theme=dark] .colab-df-convert:hover {\n",
              "      background-color: #434B5C;\n",
              "      box-shadow: 0px 1px 3px 1px rgba(0, 0, 0, 0.15);\n",
              "      filter: drop-shadow(0px 1px 2px rgba(0, 0, 0, 0.3));\n",
              "      fill: #FFFFFF;\n",
              "    }\n",
              "  </style>\n",
              "\n",
              "      <script>\n",
              "        const buttonEl =\n",
              "          document.querySelector('#df-34ef0001-983f-4454-81c1-02cb2a005bba button.colab-df-convert');\n",
              "        buttonEl.style.display =\n",
              "          google.colab.kernel.accessAllowed ? 'block' : 'none';\n",
              "\n",
              "        async function convertToInteractive(key) {\n",
              "          const element = document.querySelector('#df-34ef0001-983f-4454-81c1-02cb2a005bba');\n",
              "          const dataTable =\n",
              "            await google.colab.kernel.invokeFunction('convertToInteractive',\n",
              "                                                     [key], {});\n",
              "          if (!dataTable) return;\n",
              "\n",
              "          const docLinkHtml = 'Like what you see? Visit the ' +\n",
              "            '<a target=\"_blank\" href=https://colab.research.google.com/notebooks/data_table.ipynb>data table notebook</a>'\n",
              "            + ' to learn more about interactive tables.';\n",
              "          element.innerHTML = '';\n",
              "          dataTable['output_type'] = 'display_data';\n",
              "          await google.colab.output.renderOutput(dataTable, element);\n",
              "          const docLink = document.createElement('div');\n",
              "          docLink.innerHTML = docLinkHtml;\n",
              "          element.appendChild(docLink);\n",
              "        }\n",
              "      </script>\n",
              "    </div>\n",
              "  </div>\n",
              "  "
            ]
          },
          "metadata": {},
          "execution_count": 122
        }
      ]
    },
    {
      "cell_type": "markdown",
      "source": [
        "PAREI AQUI, AGORA PRECISO VERIFICAR SE TEM MAIS ALGO PARA LIMPAR"
      ],
      "metadata": {
        "id": "1nVoACzQGwZ0"
      }
    },
    {
      "cell_type": "code",
      "source": [],
      "metadata": {
        "colab": {
          "base_uri": "https://localhost:8080/"
        },
        "id": "e03f7X_uD4Lr",
        "outputId": "f6aef213-5e8b-4dc5-f792-a69cf3b28c1a"
      },
      "execution_count": 110,
      "outputs": [
        {
          "output_type": "execute_result",
          "data": {
            "text/plain": [
              "0        0\n",
              "1        0\n",
              "2        0\n",
              "3        0\n",
              "4        0\n",
              "        ..\n",
              "29579    0\n",
              "29580    0\n",
              "29581    0\n",
              "29582    0\n",
              "29583    0\n",
              "Name: blindado, Length: 29584, dtype: int64"
            ]
          },
          "metadata": {},
          "execution_count": 110
        }
      ]
    },
    {
      "cell_type": "code",
      "source": [
        "correlation_with_target = df.corr(numeric_only=True)['preco'].drop('preco')\n",
        "print(correlation_with_target)"
      ],
      "metadata": {
        "colab": {
          "base_uri": "https://localhost:8080/"
        },
        "id": "xxHkZ6rntIjJ",
        "outputId": "e9040238-632a-4cb5-acbf-cfcb57424fea"
      },
      "execution_count": 47,
      "outputs": [
        {
          "output_type": "stream",
          "name": "stdout",
          "text": [
            "num_fotos           -0.032331\n",
            "ano_de_fabricacao    0.239172\n",
            "ano_modelo           0.214854\n",
            "hodometro           -0.359218\n",
            "num_portas          -0.075265\n",
            "entrega_delivery    -0.067427\n",
            "troca               -0.053444\n",
            "elegivel_revisao          NaN\n",
            "veiculo_alienado          NaN\n",
            "Name: preco, dtype: float64\n"
          ]
        }
      ]
    },
    {
      "cell_type": "code",
      "source": [
        "num_valores_unicos = df['veiculo_único_dono'].nunique()\n",
        "print(num_valores_unicos)"
      ],
      "metadata": {
        "colab": {
          "base_uri": "https://localhost:8080/"
        },
        "id": "DiFV2vbG3K0y",
        "outputId": "93ebaff6-4627-4057-bc7c-f29bc38f2f6e"
      },
      "execution_count": 75,
      "outputs": [
        {
          "output_type": "stream",
          "name": "stdout",
          "text": [
            "1\n"
          ]
        }
      ]
    },
    {
      "cell_type": "code",
      "source": [
        "\n",
        "valores_unicos = df['veiculo_único_dono'].unique()\n",
        "\n",
        "print(valores_unicos)"
      ],
      "metadata": {
        "colab": {
          "base_uri": "https://localhost:8080/"
        },
        "id": "oSDnY3U_4fW6",
        "outputId": "939ff4df-944b-4da4-dd0b-823640b5ac23"
      },
      "execution_count": 76,
      "outputs": [
        {
          "output_type": "stream",
          "name": "stdout",
          "text": [
            "[nan 'Único dono']\n"
          ]
        }
      ]
    },
    {
      "cell_type": "code",
      "source": [
        "cor_stats = df.groupby('cor')['preco'].describe()\n",
        "print(cor_stats)"
      ],
      "metadata": {
        "colab": {
          "base_uri": "https://localhost:8080/"
        },
        "id": "HMDYprKF58kx",
        "outputId": "a6323f8f-7d2b-4392-b94e-9d42e714b4fc"
      },
      "execution_count": 67,
      "outputs": [
        {
          "output_type": "stream",
          "name": "stdout",
          "text": [
            "            count           mean            std           min            25%  \\\n",
            "cor                                                                            \n",
            "Branco    20949.0  130159.661644   74792.760812  14011.654277   77881.459136   \n",
            "Cinza      1634.0  197087.176386   82219.851705  63561.514730  130759.468630   \n",
            "Dourado       2.0   88728.360369    4329.449054  85666.977584   87197.668976   \n",
            "Prata      1741.0   95666.495127   43005.521126   9869.950645   57096.458102   \n",
            "Preto      5256.0  136943.250396  103635.885327  11606.398045   67770.755636   \n",
            "Verde         1.0   60668.799676            NaN  60668.799676   60668.799676   \n",
            "Vermelho      1.0   56046.777585            NaN  56046.777585   56046.777585   \n",
            "\n",
            "                    50%            75%           max  \n",
            "cor                                                   \n",
            "Branco    113438.004290  160571.619821  1.359813e+06  \n",
            "Cinza     178628.180346  247674.587842  4.868696e+05  \n",
            "Dourado    88728.360369   90259.051761  9.178974e+04  \n",
            "Prata      98200.292007  130293.289674  2.037864e+05  \n",
            "Preto     103603.671690  167380.879926  1.154360e+06  \n",
            "Verde      60668.799676   60668.799676  6.066880e+04  \n",
            "Vermelho   56046.777585   56046.777585  5.604678e+04  \n"
          ]
        }
      ]
    },
    {
      "cell_type": "code",
      "source": [
        "marca_stats = df.groupby('marca')['preco'].describe()\n",
        "print(marca_stats)"
      ],
      "metadata": {
        "id": "-QdDCIBd6sry"
      },
      "execution_count": null,
      "outputs": []
    },
    {
      "cell_type": "code",
      "source": [],
      "metadata": {
        "id": "galn3uQO722y"
      },
      "execution_count": null,
      "outputs": []
    },
    {
      "cell_type": "code",
      "source": [
        "\n",
        "mapeamento = {'N': 0, 'S': 1}\n",
        "\n",
        "df['blindado'] = df['blindado'].map(mapeamento)"
      ],
      "metadata": {
        "id": "a6TPqIhk5NFz"
      },
      "execution_count": 61,
      "outputs": []
    },
    {
      "cell_type": "code",
      "source": [],
      "metadata": {
        "colab": {
          "base_uri": "https://localhost:8080/"
        },
        "id": "DssmazrT5dPx",
        "outputId": "2fa47ea1-da65-4a06-d0e4-d9d3213bd2b9"
      },
      "execution_count": 62,
      "outputs": [
        {
          "output_type": "stream",
          "name": "stdout",
          "text": [
            "[0 1]\n"
          ]
        }
      ]
    }
  ]
}